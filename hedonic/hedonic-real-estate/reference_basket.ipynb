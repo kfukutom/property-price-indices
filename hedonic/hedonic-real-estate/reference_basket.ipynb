{
 "cells": [
  {
   "cell_type": "code",
   "execution_count": 3,
   "metadata": {},
   "outputs": [],
   "source": [
    "import pandas as pd\n",
    "import numpy as np\n",
    "import statsmodels.api as sm\n",
    "import pickle\n",
    "import scipy.stats.mstats as gmean\n",
    "import matplotlib.pyplot as plt\n",
    "import csv\n",
    "\n",
    "if __name__ == \"__main__\":\n",
    "    dataset = pd.read_csv('ura_data_processed.csv', index_col=0)\n",
    "    y = dataset['log_price_psf']"
   ]
  },
  {
   "cell_type": "code",
   "execution_count": 6,
   "metadata": {},
   "outputs": [],
   "source": [
    "import sys\n",
    "class classImputations():\n",
    "    def __init__ (self, df):\n",
    "        try:\n",
    "            super.__init__()\n",
    "            self.df = df\n",
    "        except Exception as e:\n",
    "            sys.exit(1)"
   ]
  },
  {
   "cell_type": "code",
   "execution_count": 2,
   "metadata": {},
   "outputs": [
    {
     "name": "stdout",
     "output_type": "stream",
     "text": [
      "['2016Q1', '2016Q2', '2016Q3', '2016Q4', '2017Q1', '2017Q2', '2017Q3', '2017Q4', '2018Q1', '2018Q2', '2018Q3', '2018Q4', '2019Q1', '2019Q2', '2019Q3', '2019Q4', '2020Q1', '2020Q2', '2020Q3', '2020Q4', '2021Q1']\n"
     ]
    }
   ],
   "source": [
    "X_columns = [c for c in dataset.columns if not c.startswith('Period_') and not c in ['log_price_psf']]\n",
    "X = dataset[X_columns]\n",
    "X = sm.add_constant(X)\n",
    "period_list = ['%sQ%s' % (year, qtr) for year in range(2016,2022) for qtr in range(1,5)]\n",
    "period_list = period_list[:-3]\n",
    "print(period_list)"
   ]
  },
  {
   "cell_type": "code",
   "execution_count": 90,
   "metadata": {},
   "outputs": [
    {
     "name": "stderr",
     "output_type": "stream",
     "text": [
      "/var/folders/g4/ykwfgyl55t7dfzv_zc3dcshh0000gn/T/ipykernel_555/3433398503.py:15: FutureWarning: Series.__getitem__ treating keys as positions is deprecated. In a future version, integer keys will always be treated as labels (consistent with DataFrame behavior). To access a value by position, use `ser.iloc[pos]`\n",
      "  pred_columns].mean() / dataset[base_period_filter][pred_columns].mean()[0]\n"
     ]
    }
   ],
   "source": [
    "import math\n",
    "debug_predictions = {}\n",
    "for period in period_list:\n",
    "    with open('%s.pkl' % period, 'rb') as file:\n",
    "        results = pickle.load(file)\n",
    "\n",
    "    prediction = results.predict(X)\n",
    "    prediction = prediction.astype(float)\n",
    "    dataset['pred_psf_%s' % period] = np.exp(prediction)\n",
    "\n",
    "pred_columns = [c for c in dataset.columns if c.startswith('pred_')]\n",
    "base_period = '2016Q1'\n",
    "base_period_filter = dataset['Period_%s' % base_period]\n",
    "imputation_index_laspeyres = dataset.loc[base_period_filter,\n",
    "                                         pred_columns].mean() / dataset[base_period_filter][pred_columns].mean()[0]"
   ]
  },
  {
   "cell_type": "code",
   "execution_count": 91,
   "metadata": {},
   "outputs": [],
   "source": [
    "imputation_index_laspeyres.index = [x.replace('pred_psf_', '') for x in imputation_index_laspeyres.index]"
   ]
  },
  {
   "cell_type": "code",
   "execution_count": 92,
   "metadata": {},
   "outputs": [
    {
     "name": "stderr",
     "output_type": "stream",
     "text": [
      "/var/folders/g4/ykwfgyl55t7dfzv_zc3dcshh0000gn/T/ipykernel_555/3371077177.py:3: FutureWarning: Series.__getitem__ treating keys as positions is deprecated. In a future version, integer keys will always be treated as labels (consistent with DataFrame behavior). To access a value by position, use `ser.iloc[pos]`\n",
      "  district_9_filter, pred_columns].mean() / dataset.loc[base_period_filter &\n"
     ]
    }
   ],
   "source": [
    "district_9_filter = dataset['District_9'] == 1\n",
    "imputation_index_9_laspeyres = dataset.loc[base_period_filter & \n",
    "                                           district_9_filter, pred_columns].mean() / dataset.loc[base_period_filter & \n",
    "                                                                                                 district_9_filter, pred_columns].mean()[0]\n",
    "imputation_index_9_laspeyres.index = [x.replace('pred_psf_', '') for x in imputation_index_9_laspeyres.index]"
   ]
  },
  {
   "cell_type": "code",
   "execution_count": 93,
   "metadata": {},
   "outputs": [],
   "source": [
    "paasche_index_dict = {}\n",
    "paasche_index_9_dict = {}\n",
    "for period in period_list:\n",
    "    period_filter = dataset['Period_%s' % period] == 1\n",
    "    paasche_index_dict[period] = dataset.loc[period_filter]['pred_psf_%s' % period].mean() / dataset[period_filter]['pred_psf_%s' % base_period].mean()\n",
    "    paasche_index_9_dict[period] = dataset.loc[period_filter & district_9_filter]['pred_psf_%s' % period].mean() / dataset[period_filter & district_9_filter]['pred_psf_%s' % base_period].mean()"
   ]
  },
  {
   "cell_type": "code",
   "execution_count": 96,
   "metadata": {},
   "outputs": [],
   "source": [
    "##Imputation Index\n",
    "imputation_index_paasche = pd.DataFrame.from_dict(paasche_index_dict, orient='index', columns = ['paasche_all'])"
   ]
  }
 ],
 "metadata": {
  "kernelspec": {
   "display_name": "Python 3",
   "language": "python",
   "name": "python3"
  },
  "language_info": {
   "codemirror_mode": {
    "name": "ipython",
    "version": 3
   },
   "file_extension": ".py",
   "mimetype": "text/x-python",
   "name": "python",
   "nbconvert_exporter": "python",
   "pygments_lexer": "ipython3",
   "version": "3.11.5"
  }
 },
 "nbformat": 4,
 "nbformat_minor": 2
}
